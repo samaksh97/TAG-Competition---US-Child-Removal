{
 "cells": [
  {
   "cell_type": "code",
   "execution_count": 1,
   "id": "f2c8e114",
   "metadata": {},
   "outputs": [],
   "source": [
    "import pandas as pd\n",
    "import os\n",
    "import sys\n",
    "import re\n",
    "import seaborn as sns\n",
    "import matplotlib.pyplot as plt\n",
    "import shap\n"
   ]
  },
  {
   "cell_type": "code",
   "execution_count": 2,
   "id": "53bbfb4a",
   "metadata": {},
   "outputs": [],
   "source": [
    "from xgboost import XGBRegressor\n"
   ]
  },
  {
   "cell_type": "code",
   "execution_count": 3,
   "id": "b46178bb",
   "metadata": {},
   "outputs": [
    {
     "name": "stderr",
     "output_type": "stream",
     "text": [
      "Columns (7) have mixed types. Specify dtype option on import or set low_memory=False.\n"
     ]
    }
   ],
   "source": [
    "afcar_2021 =pd.read_table('./Data/AFCARS_Data/FC2021v1.tab')"
   ]
  },
  {
   "cell_type": "code",
   "execution_count": 4,
   "id": "d95ccff0",
   "metadata": {},
   "outputs": [
    {
     "data": {
      "text/plain": [
       "99    391094\n",
       "1     100772\n",
       "3      53771\n",
       "5      25150\n",
       "4      19599\n",
       "2      12540\n",
       "6       2327\n",
       "7        562\n",
       "8        372\n",
       "Name: DISREASN, dtype: int64"
      ]
     },
     "execution_count": 4,
     "metadata": {},
     "output_type": "execute_result"
    }
   ],
   "source": [
    "afcar_2021['DISREASN'].value_counts()"
   ]
  },
  {
   "cell_type": "code",
   "execution_count": 5,
   "id": "6fa4e37a",
   "metadata": {},
   "outputs": [
    {
     "data": {
      "text/plain": [
       "606180"
      ]
     },
     "execution_count": 5,
     "metadata": {},
     "output_type": "execute_result"
    }
   ],
   "source": [
    "afcar_2021.RecNumbr.nunique()"
   ]
  },
  {
   "cell_type": "code",
   "execution_count": 6,
   "id": "25e38abc",
   "metadata": {},
   "outputs": [],
   "source": [
    "adopted_or_still_in_fc = afcar_2021[afcar_2021.DISREASN.isin([3,99])]"
   ]
  },
  {
   "cell_type": "code",
   "execution_count": 7,
   "id": "f2739400",
   "metadata": {},
   "outputs": [],
   "source": [
    "req_cols = ['LifeLOS','WHITE','STATE','CHBEHPRB','CLINDIS','EVERADPT','XIXMEDCD','TOTALREM','SEX','AMIAKN','ASIAN','BLKAFRAM','HAWAIIPI','UNTODETM','HISORGIN','MR','VISHEAR','PHYDIS'\n",
    "           ,'EmotDist','OTHERMED','AGEADOPT','MANREM','PHYABUSE','SEXABUSE','NEGLECT','AAPARENT','DAPARENT',\n",
    "           'AACHILD','DACHILD','CHILDIS','PRTSDIED','PRTSJAIL','NOCOPE','ABANDMNT','RELINQSH','HOUSING','IVEFC',\n",
    "           'IVAAFDC','SSIOTHER','NOA','RU13','DISREASN']#'IVEAA',"
   ]
  },
  {
   "cell_type": "code",
   "execution_count": 8,
   "id": "3e2ad191",
   "metadata": {},
   "outputs": [],
   "source": [
    "req_df = adopted_or_still_in_fc[req_cols]"
   ]
  },
  {
   "cell_type": "code",
   "execution_count": 9,
   "id": "54945c19",
   "metadata": {},
   "outputs": [
    {
     "name": "stderr",
     "output_type": "stream",
     "text": [
      "\n",
      "A value is trying to be set on a copy of a slice from a DataFrame.\n",
      "Try using .loc[row_indexer,col_indexer] = value instead\n",
      "\n",
      "See the caveats in the documentation: https://pandas.pydata.org/pandas-docs/stable/user_guide/indexing.html#returning-a-view-versus-a-copy\n"
     ]
    }
   ],
   "source": [
    "val = req_df['DISREASN'].apply(lambda p:int(p==3))\n",
    "req_df.loc[:,'IS_ADOPTED'] = val"
   ]
  },
  {
   "cell_type": "code",
   "execution_count": 10,
   "id": "9dd13577",
   "metadata": {},
   "outputs": [],
   "source": [
    "req_df = req_df.drop(columns={'DISREASN'})"
   ]
  },
  {
   "cell_type": "code",
   "execution_count": null,
   "id": "1487ff1e",
   "metadata": {},
   "outputs": [],
   "source": []
  },
  {
   "cell_type": "code",
   "execution_count": null,
   "id": "c81dd02d",
   "metadata": {},
   "outputs": [],
   "source": []
  },
  {
   "cell_type": "code",
   "execution_count": 11,
   "id": "e987b89e",
   "metadata": {},
   "outputs": [],
   "source": [
    "from sklearn.model_selection import train_test_split\n",
    "from sklearn.tree import DecisionTreeClassifier\n",
    "from sklearn import metrics"
   ]
  },
  {
   "cell_type": "code",
   "execution_count": 12,
   "id": "e7b67ffa",
   "metadata": {},
   "outputs": [],
   "source": [
    "def plot_feature_importance(importance,names,model_type):\n",
    "\n",
    "        #Create arrays from feature importance and feature names\n",
    "        feature_importance = np.array(importance)\n",
    "        feature_names = np.array(names)\n",
    "\n",
    "        #Create a DataFrame using a Dictionary\n",
    "        data={'feature_names':feature_names,'feature_importance':feature_importance}\n",
    "        fi_df = pd.DataFrame(data)\n",
    "\n",
    "        #Sort the DataFrame in order decreasing feature importance\n",
    "        fi_df.sort_values(by=['feature_importance'], ascending=False,inplace=True)\n",
    "        \n",
    "        fi_df = fi_df.iloc[:9,:]\n",
    "        #Define size of bar plot\n",
    "        plt.figure(figsize=(10,8))\n",
    "        #Plot Searborn bar chart\n",
    "        sns.barplot(x=fi_df['feature_importance'], y=fi_df['feature_names'])\n",
    "        #Add chart labels\n",
    "        plt.title(model_type + 'FEATURE IMPORTANCE')\n",
    "        plt.xlabel('FEATURE IMPORTANCE')\n",
    "        plt.ylabel('FEATURE NAMES')"
   ]
  },
  {
   "cell_type": "code",
   "execution_count": 13,
   "id": "5d40d6ab",
   "metadata": {},
   "outputs": [],
   "source": [
    "req_df = req_df.dropna()"
   ]
  },
  {
   "cell_type": "code",
   "execution_count": null,
   "id": "ee2616b8",
   "metadata": {},
   "outputs": [],
   "source": []
  },
  {
   "cell_type": "code",
   "execution_count": 14,
   "id": "e73def8a",
   "metadata": {},
   "outputs": [
    {
     "data": {
      "text/plain": [
       "0    277445\n",
       "1     43293\n",
       "Name: IS_ADOPTED, dtype: int64"
      ]
     },
     "execution_count": 14,
     "metadata": {},
     "output_type": "execute_result"
    }
   ],
   "source": [
    "req_df.dropna()['IS_ADOPTED'].value_counts()"
   ]
  },
  {
   "cell_type": "code",
   "execution_count": 15,
   "id": "73396753",
   "metadata": {},
   "outputs": [],
   "source": [
    "X = req_df.drop(columns={'IS_ADOPTED'})\n",
    "y = req_df['IS_ADOPTED']"
   ]
  },
  {
   "cell_type": "code",
   "execution_count": null,
   "id": "64e91944",
   "metadata": {},
   "outputs": [],
   "source": []
  },
  {
   "cell_type": "code",
   "execution_count": 16,
   "id": "83850d7f",
   "metadata": {},
   "outputs": [],
   "source": [
    "import numpy as np\n",
    "from sklearn.utils import resample\n",
    "\n",
    "X_oversampled, y_oversampled = resample(X[y == 0],y[y == 0],replace=False,n_samples=X[y == 1].shape[0],random_state=123)\n",
    "X_balanced = np.vstack((X[y == 1], X_oversampled))\n",
    "y_balanced = np.hstack((y[y == 1], y_oversampled))\n"
   ]
  },
  {
   "cell_type": "code",
   "execution_count": 17,
   "id": "7380d2c8",
   "metadata": {},
   "outputs": [],
   "source": [
    "# X_train, X_test, y_train, y_test = train_test_split(X, y, test_size=0.3, random_state=1) # 70% training and 30% test\n",
    "X_train, X_test, y_train, y_test = train_test_split(X_balanced, y_balanced, test_size=0.3, random_state=1) # 70% training and 30% test"
   ]
  },
  {
   "cell_type": "markdown",
   "id": "194a1d99",
   "metadata": {},
   "source": [
    "# Xgboost"
   ]
  },
  {
   "cell_type": "code",
   "execution_count": 18,
   "id": "02cd9e65",
   "metadata": {},
   "outputs": [],
   "source": [
    "req_cols_dict = {'LifeLOS':'Total days in FC','STATE':'State','XIXMEDCD':'Medicaid Eligible','EVERADPT':'Adopted before','TOTALREM':'Number of Removals',\n",
    "           'WHITE':'White','CHBEHPRB':'Behavioral Problem','CLINDIS':'Clinical Disability','MANREM':'Manner of Removal','DAPARENT':'Drug Addicted Parent'}"
   ]
  },
  {
   "cell_type": "code",
   "execution_count": 19,
   "id": "df507051",
   "metadata": {},
   "outputs": [],
   "source": [
    "first_cols = list(req_cols_dict.values())"
   ]
  },
  {
   "cell_type": "code",
   "execution_count": 20,
   "id": "44f712cb",
   "metadata": {},
   "outputs": [],
   "source": [
    "X_test = pd.DataFrame(X_test)\n",
    "\n",
    "X_test.columns = X.columns\n",
    "\n",
    "X_test = X_test.rename(columns=req_cols_dict)"
   ]
  },
  {
   "cell_type": "code",
   "execution_count": null,
   "id": "ada9b38b",
   "metadata": {},
   "outputs": [],
   "source": []
  },
  {
   "cell_type": "code",
   "execution_count": 21,
   "id": "c57b88dc",
   "metadata": {},
   "outputs": [],
   "source": [
    "from xgboost import XGBClassifier"
   ]
  },
  {
   "cell_type": "code",
   "execution_count": 22,
   "id": "67bcdd15",
   "metadata": {},
   "outputs": [
    {
     "data": {
      "text/plain": [
       "XGBClassifier(base_score=None, booster=None, callbacks=None,\n",
       "              colsample_bylevel=None, colsample_bynode=None,\n",
       "              colsample_bytree=None, early_stopping_rounds=None,\n",
       "              enable_categorical=False, eval_metric=None, feature_types=None,\n",
       "              gamma=None, gpu_id=None, grow_policy=None, importance_type=None,\n",
       "              interaction_constraints=None, learning_rate=None, max_bin=None,\n",
       "              max_cat_threshold=None, max_cat_to_onehot=None,\n",
       "              max_delta_step=None, max_depth=None, max_leaves=None,\n",
       "              min_child_weight=None, missing=nan, monotone_constraints=None,\n",
       "              n_estimators=50, n_jobs=None, num_parallel_tree=None,\n",
       "              predictor=None, random_state=123, ...)"
      ]
     },
     "execution_count": 22,
     "metadata": {},
     "output_type": "execute_result"
    }
   ],
   "source": [
    "xgb = XGBClassifier(n_estimators=50,random_state=123)\n",
    "xgb.fit(X_train, y_train)"
   ]
  },
  {
   "cell_type": "code",
   "execution_count": 23,
   "id": "a01d9e68",
   "metadata": {},
   "outputs": [],
   "source": [
    "y_pred = xgb.predict(X_test)"
   ]
  },
  {
   "cell_type": "code",
   "execution_count": 24,
   "id": "b1a8c812",
   "metadata": {},
   "outputs": [
    {
     "data": {
      "text/plain": [
       "0.8153130590339892"
      ]
     },
     "execution_count": 24,
     "metadata": {},
     "output_type": "execute_result"
    }
   ],
   "source": [
    "metrics.f1_score(y_pred=y_pred,y_true=y_test)"
   ]
  },
  {
   "cell_type": "code",
   "execution_count": 25,
   "id": "17211341",
   "metadata": {},
   "outputs": [
    {
     "data": {
      "text/plain": [
       "0.8008100248642483"
      ]
     },
     "execution_count": 25,
     "metadata": {},
     "output_type": "execute_result"
    }
   ],
   "source": [
    "metrics.roc_auc_score(y_score=y_pred,y_true=y_test)"
   ]
  },
  {
   "cell_type": "code",
   "execution_count": 26,
   "id": "2ce2c393",
   "metadata": {},
   "outputs": [
    {
     "data": {
      "text/plain": [
       "array([[ 9420,  3482],\n",
       "       [ 1680, 11394]], dtype=int64)"
      ]
     },
     "execution_count": 26,
     "metadata": {},
     "output_type": "execute_result"
    }
   ],
   "source": [
    "metrics.confusion_matrix(y_pred=y_pred,y_true=y_test)"
   ]
  },
  {
   "cell_type": "code",
   "execution_count": 27,
   "id": "7fdad620",
   "metadata": {},
   "outputs": [
    {
     "data": {
      "text/plain": [
       "0.765931702070449"
      ]
     },
     "execution_count": 27,
     "metadata": {},
     "output_type": "execute_result"
    }
   ],
   "source": [
    "metrics.precision_score(y_pred=y_pred,y_true=y_test)"
   ]
  },
  {
   "cell_type": "code",
   "execution_count": 28,
   "id": "24ee0ee7",
   "metadata": {},
   "outputs": [
    {
     "data": {
      "text/plain": [
       "0.8715006883891694"
      ]
     },
     "execution_count": 28,
     "metadata": {},
     "output_type": "execute_result"
    }
   ],
   "source": [
    "metrics.recall_score(y_pred=y_pred,y_true=y_test)"
   ]
  },
  {
   "cell_type": "code",
   "execution_count": 29,
   "id": "07e8cb23",
   "metadata": {},
   "outputs": [
    {
     "data": {
      "text/plain": [
       "array([0.1025176 , 0.04609451, 0.04017127, 0.08581102, 0.02850567,\n",
       "       0.05879482, 0.05926251, 0.06990267, 0.00467169, 0.0076565 ,\n",
       "       0.00750073, 0.00590713, 0.00773648, 0.00610916, 0.01331143,\n",
       "       0.00906506, 0.00935085, 0.00723853, 0.01609172, 0.01365426,\n",
       "       0.02819624, 0.06880392, 0.01093063, 0.0127922 , 0.01272119,\n",
       "       0.00597378, 0.04372752, 0.00588017, 0.01109388, 0.01063195,\n",
       "       0.01220768, 0.00791471, 0.00656938, 0.00742392, 0.01311092,\n",
       "       0.00705989, 0.02813865, 0.03428605, 0.02730242, 0.03414014,\n",
       "       0.01174112], dtype=float32)"
      ]
     },
     "execution_count": 29,
     "metadata": {},
     "output_type": "execute_result"
    }
   ],
   "source": [
    "xgb.feature_importances_"
   ]
  },
  {
   "cell_type": "code",
   "execution_count": 30,
   "id": "00fda5f1",
   "metadata": {},
   "outputs": [
    {
     "data": {
      "image/png": "[encoded data removed]",
      "text/plain": [
       "<Figure size 720x576 with 1 Axes>"
      ]
     },
     "metadata": {
      "needs_background": "light"
     },
     "output_type": "display_data"
    }
   ],
   "source": [
    "plot_feature_importance(xgb.feature_importances_,X_test.columns,'XGBoost')"
   ]
  },
  {
   "cell_type": "code",
   "execution_count": 31,
   "id": "92525a3d",
   "metadata": {},
   "outputs": [
    {
     "name": "stderr",
     "output_type": "stream",
     "text": [
      "ntree_limit is deprecated, use `iteration_range` or model slicing instead.\n"
     ]
    }
   ],
   "source": [
    "explainer = shap.TreeExplainer(xgb)\n",
    "shap_values = explainer.shap_values(X_test)"
   ]
  },
  {
   "cell_type": "code",
   "execution_count": 32,
   "id": "78a3372e",
   "metadata": {},
   "outputs": [],
   "source": [
    "# shap.summary_plot??"
   ]
  },
  {
   "cell_type": "code",
   "execution_count": 33,
   "id": "02dc12bc",
   "metadata": {},
   "outputs": [
    {
     "data": {
      "image/png": "[encoded data removed]",
      "text/plain": [
       "<Figure size 576x338.4 with 2 Axes>"
      ]
     },
     "metadata": {
      "needs_background": "light"
     },
     "output_type": "display_data"
    }
   ],
   "source": [
    "shap.summary_plot(shap_values[:,:len(req_cols_dict)-2], X_test.iloc[:,:len(req_cols_dict)-2])\n"
   ]
  },
  {
   "cell_type": "code",
   "execution_count": null,
   "id": "c0024878",
   "metadata": {},
   "outputs": [],
   "source": []
  },
  {
   "cell_type": "markdown",
   "id": "53f13cfa",
   "metadata": {},
   "source": [
    "# EDA of Important Variables"
   ]
  },
  {
   "cell_type": "code",
   "execution_count": 34,
   "id": "09dd4618",
   "metadata": {},
   "outputs": [],
   "source": [
    "life_os = req_df[['LifeLOS','IS_ADOPTED']]"
   ]
  },
  {
   "cell_type": "code",
   "execution_count": 35,
   "id": "a1eec585",
   "metadata": {},
   "outputs": [
    {
     "data": {
      "text/html": [
       "<div>\n",
       "<style scoped>\n",
       "    .dataframe tbody tr th:only-of-type {\n",
       "        vertical-align: middle;\n",
       "    }\n",
       "\n",
       "    .dataframe tbody tr th {\n",
       "        vertical-align: top;\n",
       "    }\n",
       "\n",
       "    .dataframe thead th {\n",
       "        text-align: right;\n",
       "    }\n",
       "</style>\n",
       "<table border=\"1\" class=\"dataframe\">\n",
       "  <thead>\n",
       "    <tr style=\"text-align: right;\">\n",
       "      <th></th>\n",
       "      <th>LifeLOS</th>\n",
       "    </tr>\n",
       "    <tr>\n",
       "      <th>IS_ADOPTED</th>\n",
       "      <th></th>\n",
       "    </tr>\n",
       "  </thead>\n",
       "  <tbody>\n",
       "    <tr>\n",
       "      <th>0</th>\n",
       "      <td>758.435038</td>\n",
       "    </tr>\n",
       "    <tr>\n",
       "      <th>1</th>\n",
       "      <td>1093.773959</td>\n",
       "    </tr>\n",
       "  </tbody>\n",
       "</table>\n",
       "</div>"
      ],
      "text/plain": [
       "                LifeLOS\n",
       "IS_ADOPTED             \n",
       "0            758.435038\n",
       "1           1093.773959"
      ]
     },
     "execution_count": 35,
     "metadata": {},
     "output_type": "execute_result"
    }
   ],
   "source": [
    "req_df[['LifeLOS','IS_ADOPTED']].groupby('IS_ADOPTED').mean()"
   ]
  },
  {
   "cell_type": "code",
   "execution_count": 36,
   "id": "322c68f0",
   "metadata": {},
   "outputs": [
    {
     "data": {
      "text/plain": [
       "7590.0"
      ]
     },
     "execution_count": 36,
     "metadata": {},
     "output_type": "execute_result"
    }
   ],
   "source": [
    "life_os.LifeLOS.max()"
   ]
  },
  {
   "cell_type": "code",
   "execution_count": 37,
   "id": "8a0480b3",
   "metadata": {},
   "outputs": [
    {
     "name": "stderr",
     "output_type": "stream",
     "text": [
      "\n",
      "A value is trying to be set on a copy of a slice from a DataFrame.\n",
      "Try using .loc[row_indexer,col_indexer] = value instead\n",
      "\n",
      "See the caveats in the documentation: https://pandas.pydata.org/pandas-docs/stable/user_guide/indexing.html#returning-a-view-versus-a-copy\n"
     ]
    }
   ],
   "source": [
    "num_bins = 20\n",
    "bins = [i*365 for i in range(num_bins)]\n",
    "labels = [i for i in range(1,num_bins)]\n",
    "life_os['binned'] = pd.cut(life_os['LifeLOS'], bins=bins, labels=labels)"
   ]
  },
  {
   "cell_type": "code",
   "execution_count": 38,
   "id": "bf09d069",
   "metadata": {},
   "outputs": [],
   "source": [
    "p = life_os.groupby('binned').mean()['IS_ADOPTED']"
   ]
  },
  {
   "cell_type": "code",
   "execution_count": 39,
   "id": "7265d9dc",
   "metadata": {},
   "outputs": [
    {
     "data": {
      "text/plain": [
       "[<matplotlib.lines.Line2D at 0x217992a9370>]"
      ]
     },
     "execution_count": 39,
     "metadata": {},
     "output_type": "execute_result"
    },
    {
     "data": {
      "image/png": "[encoded data removed]",
      "text/plain": [
       "<Figure size 432x288 with 1 Axes>"
      ]
     },
     "metadata": {
      "needs_background": "light"
     },
     "output_type": "display_data"
    }
   ],
   "source": [
    "\n",
    "plt.plot(p)"
   ]
  },
  {
   "cell_type": "code",
   "execution_count": null,
   "id": "2b40a986",
   "metadata": {},
   "outputs": [],
   "source": []
  },
  {
   "cell_type": "code",
   "execution_count": null,
   "id": "0ec46c84",
   "metadata": {},
   "outputs": [],
   "source": []
  }
 ],
 "metadata": {
  "kernelspec": {
   "display_name": "Python 3 (ipykernel)",
   "language": "python",
   "name": "python3"
  },
  "language_info": {
   "codemirror_mode": {
    "name": "ipython",
    "version": 3
   },
   "file_extension": ".py",
   "mimetype": "text/x-python",
   "name": "python",
   "nbconvert_exporter": "python",
   "pygments_lexer": "ipython3",
   "version": "3.9.12"
  }
 },
 "nbformat": 4,
 "nbformat_minor": 5
}
